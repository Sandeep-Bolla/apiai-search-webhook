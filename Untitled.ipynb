{
 "cells": [
  {
   "cell_type": "code",
   "execution_count": 4,
   "metadata": {
    "collapsed": true
   },
   "outputs": [],
   "source": [
    "from urllib.parse import urlparse, urlencode\n",
    "from urllib.request import urlopen, Request\n",
    "from urllib.error import HTTPError\n",
    "from bs4 import BeautifulSoup\n",
    "import urllib.request\n",
    "import re\n"
   ]
  },
  {
   "cell_type": "code",
   "execution_count": 140,
   "metadata": {},
   "outputs": [
    {
     "name": "stdout",
     "output_type": "stream",
     "text": [
      "[['How to Make Fresh , Mango Juice, : 13 Steps (with Pictures) - wikiHow', 'mango juice,  - Veg , Recipes,  of India', 'Mango Juice recipe,  - YouTube', 'Mango Juice Recipe,  - Spice Up The Curry', 'How to Make Fresh , Mango Juice, : 13 Steps (with Pictures) - wikiHow', 'Mango Juice - , Mango Juice Recipe,  | How to make fresh mango ...', 'Homemade Mango Juice / Fresh , Mango Juice Recipe,  - Yummy ...', '15 , mango juice recipes,  | Page 1 of 2 | Tarladalal.com', 'Mango Juice,  (Jugo de Mango) | My Colombian , Recipes', 'Mango, -Pineapple , Juice Recipe,  | Food Network Kitchen | Food ...', 'Carrot-, Mango Juice Recipe,  & Video | Martha Stewart'], ['http://www.wikihow.com/Make-Fresh-Mango-Juice', 'http://www.vegrecipesofindia.com/mango-juice/', 'https://www.youtube.com/watch%3Fv%3Dg7Ss8qiH3zA', 'http://www.spiceupthecurry.com/mango-juice-recipe/', 'http://www.wikihow.com/Make-Fresh-Mango-Juice', 'http://www.sharmispassions.com/2013/04/mango-juice-recipe-how-to-make-fresh-mango-juice.html', 'http://www.yummytummyaarthi.com/2013/05/homemade-mango-juice-fresh-mango-juice.html', 'http://www.tarladalal.com/recipes-using-mango-juice-143', 'http://www.mycolombianrecipes.com/mango-juice-jugo-de-mango', 'http://www.foodnetwork.com/recipes/food-network-kitchen/mango-pineapple-juice-3362263', 'http://www.marthastewart.com/317161/carrot-mango-juice']]\n"
     ]
    }
   ],
   "source": [
    "query=\"mango juice recipe\"\n",
    "query=query.strip().split()\n",
    "query=\"+\".join(query)\n",
    "\n",
    "html = \"https://www.google.co.in/search?site=&source=hp&q=\"+query+\"&gws_rd=ssl\"\n",
    "req = urllib.request.Request(html, headers={'User-Agent': 'Mozilla/5.0'})\n",
    "\n",
    "soup = BeautifulSoup(urlopen(req).read(),\"html.parser\")\n",
    "\n",
    "#Regex\n",
    "reg=re.compile(\".*&sa=\")\n",
    "search =[]\n",
    "links = []\n",
    "titles = []\n",
    "imgs  = []\n",
    "\n",
    "\n",
    "\n",
    "\n",
    "for item in soup.find_all(attrs={'class' : 'th'}):\n",
    "        imgs.append(item.img['src'])\n",
    "\n",
    "#Parsing web urls\n",
    "for item in soup.find_all('h3', attrs={'class' : 'r'}):\n",
    "        link = (reg.match(item.a['href'][7:]).group())[:-4]\n",
    "        title=re.sub('<[^>]*>', '', str(item.a.contents)).replace(\"[\",\"\").replace(\"]\",\"\").replace(\"'\",\"\")\n",
    "        titles.append(title)\n",
    "        links.append(link)\n",
    "#print(title)\n",
    "#search.append(imgs)\n",
    "search.append(titles)\n",
    "search.append(links)\n",
    "print(search)"
   ]
  },
  {
   "cell_type": "code",
   "execution_count": 159,
   "metadata": {},
   "outputs": [],
   "source": [
    "def buildJson(x,y): return x+\":\"+y"
   ]
  },
  {
   "cell_type": "code",
   "execution_count": 182,
   "metadata": {},
   "outputs": [],
   "source": [
    "import json\n",
    "jso=[]\n",
    "for i in range(len(search[0])):\n",
    "    jso.append(\"'\"+search[0][i]+\"':'\"+search[1][i]+\"'\")"
   ]
  },
  {
   "cell_type": "code",
   "execution_count": 184,
   "metadata": {},
   "outputs": [
    {
     "data": {
      "text/plain": [
       "'[\"\\'How to Make Fresh , Mango Juice, : 13 Steps (with Pictures) - wikiHow\\':\\'http://www.wikihow.com/Make-Fresh-Mango-Juice\\'\", \"\\'mango juice,  - Veg , Recipes,  of India\\':\\'http://www.vegrecipesofindia.com/mango-juice/\\'\", \"\\'Mango Juice recipe,  - YouTube\\':\\'https://www.youtube.com/watch%3Fv%3Dg7Ss8qiH3zA\\'\", \"\\'Mango Juice Recipe,  - Spice Up The Curry\\':\\'http://www.spiceupthecurry.com/mango-juice-recipe/\\'\", \"\\'How to Make Fresh , Mango Juice, : 13 Steps (with Pictures) - wikiHow\\':\\'http://www.wikihow.com/Make-Fresh-Mango-Juice\\'\", \"\\'Mango Juice - , Mango Juice Recipe,  | How to make fresh mango ...\\':\\'http://www.sharmispassions.com/2013/04/mango-juice-recipe-how-to-make-fresh-mango-juice.html\\'\", \"\\'Homemade Mango Juice / Fresh , Mango Juice Recipe,  - Yummy ...\\':\\'http://www.yummytummyaarthi.com/2013/05/homemade-mango-juice-fresh-mango-juice.html\\'\", \"\\'15 , mango juice recipes,  | Page 1 of 2 | Tarladalal.com\\':\\'http://www.tarladalal.com/recipes-using-mango-juice-143\\'\", \"\\'Mango Juice,  (Jugo de Mango) | My Colombian , Recipes\\':\\'http://www.mycolombianrecipes.com/mango-juice-jugo-de-mango\\'\", \"\\'Mango, -Pineapple , Juice Recipe,  | Food Network Kitchen | Food ...\\':\\'http://www.foodnetwork.com/recipes/food-network-kitchen/mango-pineapple-juice-3362263\\'\", \"\\'Carrot-, Mango Juice Recipe,  & Video | Martha Stewart\\':\\'http://www.marthastewart.com/317161/carrot-mango-juice\\'\"]'"
      ]
     },
     "execution_count": 184,
     "metadata": {},
     "output_type": "execute_result"
    }
   ],
   "source": [
    "json.dumps(jso)"
   ]
  },
  {
   "cell_type": "code",
   "execution_count": null,
   "metadata": {
    "collapsed": true
   },
   "outputs": [],
   "source": []
  }
 ],
 "metadata": {
  "kernelspec": {
   "display_name": "Python 3",
   "language": "python",
   "name": "python3"
  },
  "language_info": {
   "codemirror_mode": {
    "name": "ipython",
    "version": 3
   },
   "file_extension": ".py",
   "mimetype": "text/x-python",
   "name": "python",
   "nbconvert_exporter": "python",
   "pygments_lexer": "ipython3",
   "version": "3.5.2"
  }
 },
 "nbformat": 4,
 "nbformat_minor": 2
}
