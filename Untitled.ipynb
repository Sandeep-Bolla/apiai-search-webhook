{
 "cells": [
  {
   "cell_type": "code",
   "execution_count": 1,
   "metadata": {
    "collapsed": true
   },
   "outputs": [],
   "source": [
    "from urllib.parse import urlparse, urlencode\n",
    "from urllib.request import urlopen, Request\n",
    "from urllib.error import HTTPError\n",
    "from bs4 import BeautifulSoup\n",
    "import urllib.request\n",
    "import re\n"
   ]
  },
  {
   "cell_type": "code",
   "execution_count": 47,
   "metadata": {
    "scrolled": false
   },
   "outputs": [
    {
     "name": "stdout",
     "output_type": "stream",
     "text": [
      "[['https://encrypted-tbn0.gstatic.com/images?q=tbn:ANd9GcRYOdkWNii4pGHen4Thp6bWknk8NVC2WRr5CmMK9A-AgD7C_NXTltODn5WpN7AN6ozRrANESCML', 'https://encrypted-tbn0.gstatic.com/images?q=tbn:ANd9GcQkalrkvxxOBVxw2r6WhOd5Grb5kV2pxrpMAB6das7prdObpYySI9JFoAGHSxcUYCftPXHQfMLP', 'https://encrypted-tbn0.gstatic.com/images?q=tbn:ANd9GcSiamT2ZXNh8-E5wjbTrLguwNrpoWSp37vXnsuZnG9WeCkDawbsKesaOZznSxULZPcigie5A07j', 'https://encrypted-tbn0.gstatic.com/images?q=tbn:ANd9GcTbJLC7xVFBYHPgqJb0-ueWGPf9k68b_a48YED_b0l0fj8UWx-bZZdmBJ5SLGqH-ajAG8mMVOGg', 'https://encrypted-tbn0.gstatic.com/images?q=tbn:ANd9GcTwS-G_uQ6N5OsanSu2JpSH_A5miUxEnrMmrU-cl443B-F5rm_Rfe00ocRim6jDokqUpKzJALmk', 'https://encrypted-tbn0.gstatic.com/images?q=tbn:ANd9GcSOOq2ktw_zi0jIDL5fc4ik5rloYFAdxms83dKZg5SzsKZu31NUHvASGeawpsgowcVoeeGd4___', 'https://encrypted-tbn0.gstatic.com/images?q=tbn:ANd9GcS1CIAHrtA5aYq9Q9uIUzO2Himzskk1SjfeAl7CTgx51MoGYWgSDKu1DqM1j1RsXrC8lJkRkpXG', 'https://encrypted-tbn0.gstatic.com/images?q=tbn:ANd9GcT_2UDdwI9ER7khLaRr8FKuV4VJgDbMI0NB4Val8llGHBZqI9HFL_bHPWoHh30PnLvJ4OennfTj'], ['Mango-Pineapple Juice', 'Mango Juice (Jugo de Mango)', 'Fresh Mango Juice - Mango FROOTI Recipe', 'Apple, Carrot and Mango Juice', 'Fruity Mango Juice recipe - How to make Fruity Mango Juice', 'Magic Mango Juice', 'Pineapple Mango Juice', 'Mango Sharbat - Mango Shorbet Recipe'], ['http://www.foodnetwork.com/recipes/food-network-kitchen/mango-pineapple-juice-3362263', 'http://www.mycolombianrecipes.com/mango-juice-jugo-de-mango', 'http://indiangoodfood.com/1362-fresh-mango-juice.html', 'http://m.recipes.timesofindia.com/beverage/non-alcoholic/apple-carrot-and-mango-juice/rs53617446.cms', 'https://m.tarladalal.com/Fruity-Mango-Juice-1451r', 'http://healthyblenderrecipes.com/recipes/spicy_mango_magic_juice_with_coconut_and_chili', 'http://www.bawarchi.com/recipe/pineapple-mango-juice-pknri8ejgcdhc.html', 'http://nishamadhulika.com/hot_and_soft_drinks/mango-juice-recipe.html']]\n"
     ]
    }
   ],
   "source": [
    "query=\"mango juice recipe\"\n",
    "query=query.strip().split()\n",
    "query=\"+\".join(query)\n",
    "\n",
    "html=\"https://www.google.co.in/search?q=\"+query\n",
    "req = urllib.request.Request(html, headers={'User-Agent': 'Mozilla/5.0 (Linux; <Android Version>; <Build Tag etc.>) AppleWebKit/<WebKit Rev> (KHTML, like Gecko) Chrome/<Chrome Rev> Mobile Safari/<WebKit Rev>'})\n",
    "\n",
    "soup = BeautifulSoup(urlopen(req).read(),\"html.parser\")\n",
    "\n",
    "search =[]\n",
    "links = []\n",
    "titles = []\n",
    "imgs  = []\n",
    "\n",
    "\n",
    "for item in soup.find_all(attrs={'class' : '_IRj _dTj _l7n'}):\n",
    "        titles.append(\"\".join(item.contents))\n",
    "\n",
    "for item in soup.find_all(attrs={'class' : '_uSj _owm _KBh'}):\n",
    "        links.append(item.a['href'])\n",
    "        try:\n",
    "            imgs.append(item.img['data-src'])\n",
    "        except:\n",
    "            imgs.append(item.img['src'])\n",
    "\n",
    "\n",
    "search.append(imgs[2:10])\n",
    "search.append(titles[2:10])\n",
    "search.append(links[2:10])\n",
    "print(search)\n"
   ]
  },
  {
   "cell_type": "code",
   "execution_count": 159,
   "metadata": {
    "collapsed": true
   },
   "outputs": [],
   "source": [
    "def buildJson(x,y): return x+\":\"+y"
   ]
  },
  {
   "cell_type": "code",
   "execution_count": 182,
   "metadata": {
    "collapsed": true
   },
   "outputs": [],
   "source": [
    "import json\n",
    "jso=[]\n",
    "for i in range(len(search[0])):\n",
    "    jso.append(\"'\"+search[0][i]+\"':'\"+search[1][i]+\"'\")"
   ]
  },
  {
   "cell_type": "code",
   "execution_count": 184,
   "metadata": {},
   "outputs": [
    {
     "data": {
      "text/plain": [
       "'[\"\\'How to Make Fresh , Mango Juice, : 13 Steps (with Pictures) - wikiHow\\':\\'http://www.wikihow.com/Make-Fresh-Mango-Juice\\'\", \"\\'mango juice,  - Veg , Recipes,  of India\\':\\'http://www.vegrecipesofindia.com/mango-juice/\\'\", \"\\'Mango Juice recipe,  - YouTube\\':\\'https://www.youtube.com/watch%3Fv%3Dg7Ss8qiH3zA\\'\", \"\\'Mango Juice Recipe,  - Spice Up The Curry\\':\\'http://www.spiceupthecurry.com/mango-juice-recipe/\\'\", \"\\'How to Make Fresh , Mango Juice, : 13 Steps (with Pictures) - wikiHow\\':\\'http://www.wikihow.com/Make-Fresh-Mango-Juice\\'\", \"\\'Mango Juice - , Mango Juice Recipe,  | How to make fresh mango ...\\':\\'http://www.sharmispassions.com/2013/04/mango-juice-recipe-how-to-make-fresh-mango-juice.html\\'\", \"\\'Homemade Mango Juice / Fresh , Mango Juice Recipe,  - Yummy ...\\':\\'http://www.yummytummyaarthi.com/2013/05/homemade-mango-juice-fresh-mango-juice.html\\'\", \"\\'15 , mango juice recipes,  | Page 1 of 2 | Tarladalal.com\\':\\'http://www.tarladalal.com/recipes-using-mango-juice-143\\'\", \"\\'Mango Juice,  (Jugo de Mango) | My Colombian , Recipes\\':\\'http://www.mycolombianrecipes.com/mango-juice-jugo-de-mango\\'\", \"\\'Mango, -Pineapple , Juice Recipe,  | Food Network Kitchen | Food ...\\':\\'http://www.foodnetwork.com/recipes/food-network-kitchen/mango-pineapple-juice-3362263\\'\", \"\\'Carrot-, Mango Juice Recipe,  & Video | Martha Stewart\\':\\'http://www.marthastewart.com/317161/carrot-mango-juice\\'\"]'"
      ]
     },
     "execution_count": 184,
     "metadata": {},
     "output_type": "execute_result"
    }
   ],
   "source": [
    "json.dumps(jso)"
   ]
  },
  {
   "cell_type": "code",
   "execution_count": null,
   "metadata": {
    "collapsed": true
   },
   "outputs": [],
   "source": []
  }
 ],
 "metadata": {
  "kernelspec": {
   "display_name": "Python 3",
   "language": "python",
   "name": "python3"
  },
  "language_info": {
   "codemirror_mode": {
    "name": "ipython",
    "version": 3
   },
   "file_extension": ".py",
   "mimetype": "text/x-python",
   "name": "python",
   "nbconvert_exporter": "python",
   "pygments_lexer": "ipython3",
   "version": "3.5.2"
  }
 },
 "nbformat": 4,
 "nbformat_minor": 2
}
